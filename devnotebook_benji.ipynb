{
 "cells": [
  {
   "cell_type": "markdown",
   "metadata": {},
   "source": [
    "# Development Notebook of Benji\n",
    "\n",
    "...basically a nice way to run my code ;) In its own notebook for version management reasons."
   ]
  },
  {
   "cell_type": "code",
   "execution_count": null,
   "metadata": {},
   "outputs": [],
   "source": [
    "import threading\n",
    "from queue import Queue\n",
    "import cv2\n",
    "\n",
    "from src.camera_capture import FrameContainer\n",
    "from src.camera_capture import CameraSetup\n",
    "from src.camera_capture import capture_frames\n",
    "from src.camera_capture import get_frame_from_queue\n",
    "\n",
    "### PARAMETERS ###\n",
    "\n",
    "keyword = \"bottle\"\n",
    "\"\"\"Keyword inputed by user = what robot needs to find\"\"\"\n",
    "\n",
    "### FUNCTIONS ###\n",
    "\n",
    "\"\"\"\n",
    "Note\n",
    "\n",
    "This block is to be removed eventually. Functions and classes should all live in files.\n",
    "\"\"\"\n",
    "\n",
    "def process_frames(window_name : str, queue_frame: Queue, event_stop: threading.Event):\n",
    "    while True:\n",
    "        frame_container = get_frame_from_queue(queue_frame)\n",
    "        if frame_container is None:\n",
    "            continue\n",
    "        cv2.imshow(window_name, frame_container.get_info_frame())\n",
    "        if cv2.waitKey(1) & 0xFF == ord('q'): #stop if the q button is pressed\n",
    "            event_stop.set()\n",
    "            return\n",
    "\n",
    "\n",
    "### SCRIPT ###\n",
    "print(f\"Searching for '{keyword}'...\")\n",
    "\n",
    "# set up camera capturing\n",
    "window_name = \"Raw Capturing\"\n",
    "camera_setup = CameraSetup(0,1) #capturing camera port 0 and camera port 1\n",
    "queue_frame = Queue(maxsize=5) #capturing to a queue of length 5\n",
    "event_stop = threading.Event()\n",
    "\n",
    "thread_capture = threading.Thread( #setting up thread\n",
    "    target=capture_frames,\n",
    "    args=(camera_setup, queue_frame, event_stop)\n",
    ")\n",
    "thread_capture.start()\n",
    "print(\"Started camera capturing.\")\n",
    "\n",
    "# process the frames\n",
    "\n",
    "try:\n",
    "    #process the captured frames\n",
    "    process_frames(window_name=window_name, queue_frame=queue_frame, event_stop=event_stop)\n",
    "finally:\n",
    "    # Stop capture thread\n",
    "    event_stop.set()\n",
    "    thread_capture.join()\n",
    "    cv2.destroyAllWindows()"
   ]
  }
 ],
 "metadata": {
  "kernelspec": {
   "display_name": "EuroVision venv",
   "language": "python",
   "name": "venv"
  },
  "language_info": {
   "codemirror_mode": {
    "name": "ipython",
    "version": 3
   },
   "file_extension": ".py",
   "mimetype": "text/x-python",
   "name": "python",
   "nbconvert_exporter": "python",
   "pygments_lexer": "ipython3",
   "version": "3.11.0rc1"
  }
 },
 "nbformat": 4,
 "nbformat_minor": 2
}
