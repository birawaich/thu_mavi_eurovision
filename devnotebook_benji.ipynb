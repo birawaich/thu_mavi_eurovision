{
 "cells": [
  {
   "cell_type": "markdown",
   "metadata": {},
   "source": [
    "# Development Notebook of Benji\n",
    "\n",
    "...basically a nice way to run my code ;) In its own notebook for version management reasons."
   ]
  },
  {
   "cell_type": "markdown",
   "metadata": {},
   "source": [
    "## Demo: Capturing via Threading\n",
    "\n",
    "This block captures images of two cameras in a sepearte thread and displays them in the main thread. Press `q` to quit."
   ]
  },
  {
   "cell_type": "code",
   "execution_count": null,
   "metadata": {},
   "outputs": [],
   "source": [
    "import threading\n",
    "from queue import Queue\n",
    "import cv2\n",
    "\n",
    "from src.frame_container import FrameContainer\n",
    "from src.camera_capture import CameraSetup\n",
    "from src.camera_capture import capture_frames\n",
    "from src.camera_capture import get_frame_from_queue\n",
    "\n",
    "### PARAMETERS ###\n",
    "\n",
    "keyword = \"bottle\"\n",
    "\"\"\"Keyword inputed by user = what robot needs to find\"\"\"\n",
    "\n",
    "### FUNCTIONS ###\n",
    "\n",
    "\"\"\"\n",
    "Note\n",
    "\n",
    "This block is to be removed eventually. Functions and classes should all live in files.\n",
    "\"\"\"\n",
    "\n",
    "def process_frames(window_name : str, queue_frame: Queue, event_stop: threading.Event):\n",
    "    while True:\n",
    "        frame_container = get_frame_from_queue(queue_frame)\n",
    "        if frame_container is None:\n",
    "            continue\n",
    "        cv2.imshow(window_name, frame_container.get_info_frame())\n",
    "        if cv2.waitKey(1) & 0xFF == ord('q'): #stop if the q button is pressed\n",
    "            event_stop.set()\n",
    "            return\n",
    "\n",
    "\n",
    "### SCRIPT ###\n",
    "print(f\"Searching for '{keyword}'...\")\n",
    "\n",
    "# set up camera capturing\n",
    "window_name = \"Raw Capturing\"\n",
    "camera_setup = CameraSetup(0,1) #capturing camera port 0 and camera port 1\n",
    "queue_frame = Queue(maxsize=5) #capturing to a queue of length 5\n",
    "event_stop = threading.Event()\n",
    "\n",
    "thread_capture = threading.Thread( #setting up thread\n",
    "    target=capture_frames,\n",
    "    args=(camera_setup, queue_frame, event_stop)\n",
    ")\n",
    "thread_capture.start()\n",
    "print(\"Started camera capturing.\")\n",
    "\n",
    "# process the frames\n",
    "\n",
    "try:\n",
    "    #process the captured frames\n",
    "    process_frames(window_name=window_name, queue_frame=queue_frame, event_stop=event_stop)\n",
    "finally:\n",
    "    # Stop capture thread\n",
    "    event_stop.set()\n",
    "    thread_capture.join()\n",
    "    cv2.destroyAllWindows()"
   ]
  },
  {
   "cell_type": "markdown",
   "metadata": {},
   "source": [
    "## Playground: Single Image\n",
    "\n",
    "Playground to process a single image (left). A thread that captures the images is spawned and then a single image taken"
   ]
  },
  {
   "cell_type": "code",
   "execution_count": null,
   "metadata": {},
   "outputs": [],
   "source": [
    "import threading\n",
    "from queue import Queue\n",
    "import cv2\n",
    "\n",
    "from src.camera_capture import CameraSetup\n",
    "from src.camera_capture import capture_frames\n",
    "from src.camera_capture import get_frame_from_queue\n",
    "\n",
    "### PARAMETERS ###\n",
    "\n",
    "camera_setup = CameraSetup(0,1) #capturing camera port 0 and camera port 1\n",
    "queue_frame = Queue(maxsize=1) #capturing to a queue of length 1 = always have most up to date image\n",
    "event_stop = threading.Event()\n",
    "### SCRIPT ###\n",
    "\n",
    "thread_capture = threading.Thread( #setting up thread\n",
    "    target=capture_frames,\n",
    "    args=(camera_setup, queue_frame, event_stop)\n",
    ")\n",
    "thread_capture.start()\n",
    "print(\"Started camera capturing. Will not stop this queue!\")"
   ]
  },
  {
   "cell_type": "code",
   "execution_count": null,
   "metadata": {},
   "outputs": [],
   "source": [
    "import warnings\n",
    "\n",
    "\n",
    "def process_single_image(queue_frame: Queue):\n",
    "    \"\"\"Function to process a single image\n",
    "    \n",
    "    Meant to play around with --> Yolo, depth estimation ;)\"\"\"\n",
    "\n",
    "    # get a frame from the queue\n",
    "    container = get_frame_from_queue(queue_frame=queue_frame)\n",
    "    if container is None:\n",
    "        warnings.warn(\"Could not get a container from the frame queue! Ensure that somebody fills that one up!\")\n",
    "        return\n",
    "    # extract the left image\n",
    "    image = container.frame_left\n",
    "\n",
    "    ### HAVE FUN WIHT IMAGE ###\n",
    "\n",
    "    print(\"So much fun!\")\n",
    "\n",
    "    # display image for 10s at most, press key to exit\n",
    "    cv2.imshow(\"Single Image Test\",image)\n",
    "    cv2.waitKey(10000)\n",
    "    cv2.destroyAllWindows()\n",
    "\n",
    "    return\n",
    "\n",
    "\n",
    "try:\n",
    "    #process the captured frames\n",
    "    process_single_image(queue_frame=queue_frame)\n",
    "finally:\n",
    "    cv2.destroyAllWindows()"
   ]
  },
  {
   "cell_type": "code",
   "execution_count": 8,
   "metadata": {},
   "outputs": [],
   "source": [
    "### STOP THE CAPTURING ###\n",
    "event_stop.set()\n",
    "thread_capture.join()\n",
    "print(\"Stopped the image capturing thread!\")"
   ]
  }
 ],
 "metadata": {
  "kernelspec": {
   "display_name": "venv",
   "language": "python",
   "name": "python3"
  },
  "language_info": {
   "codemirror_mode": {
    "name": "ipython",
    "version": 3
   },
   "file_extension": ".py",
   "mimetype": "text/x-python",
   "name": "python",
   "nbconvert_exporter": "python",
   "pygments_lexer": "ipython3",
   "version": "3.11.0rc1"
  }
 },
 "nbformat": 4,
 "nbformat_minor": 2
}
